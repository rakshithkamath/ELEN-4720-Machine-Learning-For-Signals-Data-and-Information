{
 "cells": [
  {
   "cell_type": "code",
   "execution_count": 1,
   "id": "cc206dd3",
   "metadata": {},
   "outputs": [],
   "source": [
    "import numpy as np\n",
    "import pandas as pd\n",
    "import matplotlib.pyplot as plt\n",
    "from scipy.sparse.linalg import eigs\n",
    "\n",
    "TeamNames = pd.read_csv(\"TeamNames.txt\",header = None)\n",
    "ScoreList = pd.read_csv(\"CFB2019_scores.csv\",header=None, names=['Team A index','Team A points', 'Team B index','Team B points'])\n",
    "#print(TeamNames.shape,ScoreList.shape)\n",
    "\n",
    "#create the matrix M\n",
    "M =np.zeros((TeamNames.shape[0],TeamNames.shape[0]))\n",
    "#print(M.shape)\n",
    "\n",
    "#Calculating the updates to M based on the formula mentioned in the pdf\n",
    "for i in range(len(ScoreList)):\n",
    "    team_i,points_i,team_j,points_j=ScoreList.iloc[i]\n",
    "    M[team_i-1,team_i-1]+=np.array([(points_i > points_j)]).astype('uint8')+points_i/(points_i+points_j)\n",
    "    M[team_j-1,team_j-1]+=np.array([(points_i < points_j)]).astype('uint8')+points_j/(points_i+points_j)\n",
    "    M[team_i-1,team_j-1]+=np.array([(points_i < points_j)]).astype('uint8')+points_j/(points_i+points_j)\n",
    "    M[team_j-1,team_i-1]+=np.array([(points_i > points_j)]).astype('uint8')+points_i/(points_i+points_j)\n",
    "#print(M[1,:])\n",
    "\n",
    "#Normalizing the rows of M\n",
    "for i in range(TeamNames.shape[0]):\n",
    "    M[i]=M[i]/sum(M[i])\n",
    "#print(sum(M[1,:]))\n",
    "\n",
    "#Declaring w0 to be uniform distibution\n",
    "w0= np.ones(TeamNames.shape[0])/TeamNames.shape[0]\n",
    "\n",
    "T_list=[10,100,1000,10000]\n",
    "w_t_list =[]\n",
    "w_t = w0\n",
    "for t in range(T_list[-1]+1):\n",
    "    w_t = np.dot(w_t,M)\n",
    "    if (t+1) in T_list:\n",
    "        w_t_list.append(w_t)\n",
    "\n",
    "#w_t_list is an array of 769,4 \n",
    "\n",
    "\n"
   ]
  },
  {
   "cell_type": "code",
   "execution_count": 2,
   "id": "8f427f13",
   "metadata": {},
   "outputs": [],
   "source": [
    "#sort the elements based on their score and store it along with the score \n",
    "rankings_df = pd.DataFrame(np.arange(1, 26))\n",
    "for i in range(len(w_t_list)):\n",
    "    rank = np.argsort(w_t_list[i])[::-1][:25]\n",
    "    top25_name = TeamNames.iloc[rank].reset_index(drop=True)\n",
    "    top25_scores = np.around(w_t_list[i][rank], 5)\n",
    "    rankings_df['Team Name at t='+str(T_list[i])] = top25_name\n",
    "    rankings_df['Team Score at t='+str(T_list[i])] = top25_scores\n",
    "rankings_df.to_excel('ranking.xlsx')"
   ]
  },
  {
   "cell_type": "markdown",
   "id": "b0eaf040",
   "metadata": {},
   "source": [
    "\n",
    "# Part-B\n"
   ]
  },
  {
   "cell_type": "code",
   "execution_count": 3,
   "id": "c4dc46dd",
   "metadata": {},
   "outputs": [],
   "source": [
    "#Taking the eigen value and eigen vector of the M.T vector for calculating the w infinity\n",
    "eigenValue,eigenVector=eigs(M.T,1)\n",
    "#print(f\"eigen values is{eigenValue} and the eigen vector is {eigenVector}\")\n",
    "\n",
    "w_infinity = eigenVector.T/np.sum(eigenVector.T)\n",
    "#print(w_infinity)"
   ]
  },
  {
   "cell_type": "code",
   "execution_count": 4,
   "id": "616eb209",
   "metadata": {},
   "outputs": [],
   "source": [
    "#Plotting the difference between w_infinity and w_t\n",
    "w_t=np.ones(TeamNames.shape[0])/TeamNames.shape[0]\n",
    "difference =[]\n",
    "for t in range(10000):\n",
    "    w_t= np.dot(w_t,M)\n",
    "    difference.append(np.sum(abs(w_t-w_infinity)))"
   ]
  },
  {
   "cell_type": "code",
   "execution_count": 12,
   "id": "d3f35fa6",
   "metadata": {},
   "outputs": [
    {
     "data": {
      "text/plain": [
       "<matplotlib.legend.Legend at 0x7fde4b6eb640>"
      ]
     },
     "execution_count": 12,
     "metadata": {},
     "output_type": "execute_result"
    },
    {
     "data": {
      "image/png": "[encoded data removed]",
      "text/plain": [
       "<Figure size 432x288 with 1 Axes>"
      ]
     },
     "metadata": {
      "needs_background": "light"
     },
     "output_type": "display_data"
    }
   ],
   "source": [
    "plt.figure()\n",
    "plt.plot(difference, label='mod(w_inf - w_t)', color='red')\n",
    "plt.ylabel('Difference value')\n",
    "plt.xlabel('iterations')\n",
    "plt.title('Difference between w_infinity and w_t for 10,000 iterations')\n",
    "plt.grid()\n",
    "plt.legend()\n"
   ]
  },
  {
   "cell_type": "code",
   "execution_count": null,
   "id": "b5b19a20",
   "metadata": {},
   "outputs": [],
   "source": []
  },
  {
   "cell_type": "code",
   "execution_count": null,
   "id": "5ac6fee7",
   "metadata": {},
   "outputs": [],
   "source": []
  }
 ],
 "metadata": {
  "kernelspec": {
   "display_name": "Python 3 (ipykernel)",
   "language": "python",
   "name": "python3"
  },
  "language_info": {
   "codemirror_mode": {
    "name": "ipython",
    "version": 3
   },
   "file_extension": ".py",
   "mimetype": "text/x-python",
   "name": "python",
   "nbconvert_exporter": "python",
   "pygments_lexer": "ipython3",
   "version": "3.9.7"
  }
 },
 "nbformat": 4,
 "nbformat_minor": 5
}
